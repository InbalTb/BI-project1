{
  "cells": [
    {
      "cell_type": "code",
      "execution_count": null,
      "metadata": {
        "id": "XOQadE4mqOYd"
      },
      "outputs": [],
      "source": [
        "/*1\n",
        "SELECT ABS(avg_verified - avg_unverified) AS rating_difference\n",
        "FROM (\n",
        "    SELECT AVG(CASE WHEN verified_purchase = 'Y' THEN star_rating ELSE NULL END) AS avg_verified,\n",
        "           AVG(CASE WHEN verified_purchase = 'N' THEN star_rating ELSE NULL END) AS avg_unverified\n",
        "    FROM fact\n",
        "    WHERE verified_purchase IN ('Y', 'N')\n",
        ") AS subquery;\n",
        "*/\n",
        "\n",
        "/*2\n",
        "SELECT COUNT(*) FILTER (WHERE verified_purchase = 'Y') AS verified_purchases_count,   \n",
        "COUNT(*) FILTER (WHERE verified_purchase = 'N') AS unverified_purchases_count\n",
        "FROM fact\n",
        "WHERE helpful_votes > 2;\n",
        "*/\n",
        "\n",
        "/*3\n",
        "SELECT AVG(CASE WHEN verified_purchase = 'Y' THEN star_rating END) AS avg_verified_rating,\n",
        "       AVG(CASE WHEN verified_purchase = 'N' THEN star_rating END) AS avg_unverified_rating\n",
        "FROM (\n",
        "    SELECT f.star_rating, f.verified_purchase\n",
        "    FROM fact AS f\n",
        "    INNER JOIN dimReviewInfo AS ri ON f.review_id = ri.review_id\n",
        "    WHERE LENGTH(ri.review_body) > (\n",
        "        SELECT AVG(LENGTH(review_body))\n",
        "        FROM dimReviewInfo\n",
        "    )\n",
        ") AS subquery;\n",
        "*/\n",
        "\n",
        "/*4\n",
        "SELECT AVG(CASE WHEN verified_purchase = 'Y' THEN star_rating END) AS avg_verified_rating,\n",
        "       AVG(CASE WHEN verified_purchase = 'N' THEN star_rating END) AS avg_unverified_rating\n",
        "FROM fact\n",
        "WHERE helpful_votes > 2;\n",
        "*/\n",
        "\n",
        "/*5\n",
        "SELECT COUNT(*) FILTER (WHERE f.verified_purchase = 'Y') AS verified_purchases_count,\n",
        "       COUNT(*) FILTER (WHERE f.verified_purchase = 'N') AS unverified_purchases_count\n",
        "FROM dimReviewInfo AS ri\n",
        "JOIN fact AS f ON ri.review_id = f.review_id\n",
        "WHERE LOWER(ri.review_body) LIKE '%love%';\n",
        "*/\n",
        "\n",
        "/*6\n",
        "SELECT fact.product_id,\n",
        "       SUM(CASE WHEN dimReviewInfo.review_headline LIKE 'nice' or 'Nice' THEN 1 ELSE 0 END)\n",
        "        OVER (PARTITION BY fact.product_id) AS occurrences\n",
        "FROM dimReviewInfo\n",
        "JOIN fact ON dimReviewInfo.review_id = fact.review_id\n",
        "WHERE fact.verified_purchase = 'N'\n",
        "ORDER BY occurrences DESC;\n",
        "*/\n"
      ]
    }
  ],
  "metadata": {
    "colab": {
      "provenance": []
    },
    "kernelspec": {
      "display_name": "Python 3",
      "name": "python3"
    },
    "language_info": {
      "name": "python"
    }
  },
  "nbformat": 4,
  "nbformat_minor": 0
}
